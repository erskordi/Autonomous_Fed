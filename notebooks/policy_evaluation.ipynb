{
 "cells": [
  {
   "cell_type": "code",
   "execution_count": null,
   "id": "dcb5ba8e-1a5d-44d9-979a-7347613ee29a",
   "metadata": {},
   "outputs": [],
   "source": [
    "import os\n",
    "os._exit(00)"
   ]
  },
  {
   "cell_type": "code",
   "execution_count": 1,
   "id": "2d2121ee-7aa5-420c-950a-e0c02616e28d",
   "metadata": {},
   "outputs": [],
   "source": [
    "import os\n",
    "import pandas as pd\n",
    "import numpy as np\n",
    "import ray\n",
    "import sys\n",
    "\n",
    "sys.path.insert(0, os.path.abspath(os.path.join(os.getcwd(), os.pardir)))\n",
    "sys.path.insert(0, \"/home/erskordi/projects/Autonomous_Fed/\")\n",
    "sys.path.insert(0, \"/home/erskordi/projects/Autonomous_Fed/scripts\")\n",
    "\n",
    "import ray.rllib.algorithms.ppo as ppo\n",
    "\n",
    "from ray import tune, serve, air\n",
    "from ray.tune.registry import register_env\n",
    "from ray.rllib.algorithms.ppo import PPOConfig\n",
    "from ray.rllib.utils.framework import try_import_tf\n",
    "from ray.rllib.policy.policy import Policy\n",
    "\n",
    "from config import Config\n",
    "from env import AutonomousFed\n",
    "from data_prep import gen_seq, series_to_supervised, plotting, DataPrep\n",
    "from sim import TF_VAE_Model\n",
    "\n",
    "tf1, tf, tfv = try_import_tf()\n",
    "tf1.enable_eager_execution()\n",
    "\n",
    "RAY_PICKLE_VERBOSE_DEBUG=1\n",
    "os.environ['PYTHONWARNINGS'] = \"ignore::DeprecationWarning\"\n",
    "os.environ['RAY_SERVE_QUEUE_LENGTH_RESPONSE_DEADLINE_S'] = '3'"
   ]
  },
  {
   "cell_type": "code",
   "execution_count": 2,
   "id": "ec57898f-6ca7-40ef-902a-d58cc264a38c",
   "metadata": {},
   "outputs": [
    {
     "name": "stderr",
     "output_type": "stream",
     "text": [
      "2024-03-12 11:24:03,735\tINFO worker.py:1715 -- Started a local Ray instance. View the dashboard at \u001b[1m\u001b[32m127.0.0.1:8265 \u001b[39m\u001b[22m\n"
     ]
    },
    {
     "name": "stdin",
     "output_type": "stream",
     "text": [
      "Choose specifications set {A, B, C}:  A\n"
     ]
    },
    {
     "name": "stderr",
     "output_type": "stream",
     "text": [
      "\u001b[36m(ProxyActor pid=10101)\u001b[0m INFO 2024-03-12 11:24:11,334 proxy 172.25.64.98 proxy.py:1143 - Proxy actor a5e2bff20dbe696cd0136e5201000000 starting on node 9055219526e677a21772f41cc9028a2eb5aab7e8b2f750c3cf314c59.\n",
      "\u001b[36m(ProxyActor pid=10101)\u001b[0m INFO 2024-03-12 11:24:11,342 proxy 172.25.64.98 proxy.py:1357 - Starting HTTP server on node: 9055219526e677a21772f41cc9028a2eb5aab7e8b2f750c3cf314c59 listening on port 8000\n",
      "\u001b[36m(ProxyActor pid=10101)\u001b[0m INFO:     Started server process [10101]\n",
      "\u001b[36m(ServeController pid=10050)\u001b[0m INFO 2024-03-12 11:24:11,564 controller 10050 deployment_state.py:1545 - Deploying new version of deployment TF_VAE_Model in application 'default'. Setting initial target number of replicas to 1.\n",
      "\u001b[36m(ServeController pid=10050)\u001b[0m INFO 2024-03-12 11:24:11,693 controller 10050 deployment_state.py:1829 - Adding 1 replica to deployment TF_VAE_Model in application 'default'.\n"
     ]
    }
   ],
   "source": [
    "if ray.is_initialized():\n",
    "    ray.shutdown()\n",
    "\n",
    "ray.init(num_cpus=4)\n",
    "\n",
    "specifications_set = input(\"Choose specifications set {A, B, C}: \")\n",
    "# Initialize Ray Serve\n",
    "serve.start()\n",
    "\n",
    "# Load the models based on the specifications set\n",
    "encoder_path = \"/home/erskordi/projects/Autonomous_Fed/saved_models/encoder_FedModel_A.keras\"\n",
    "decoder_path = \"/home/erskordi/projects/Autonomous_Fed/saved_models/decoder_FedModel_A.keras\"\n",
    "path = [encoder_path, decoder_path]\n",
    "\n",
    "# Deploy the models\n",
    "serve.run(target=TF_VAE_Model.bind(path), logging_config={\"log_level\":\"ERROR\"})\n",
    "\n",
    "df, scaler = DataPrep().read_data(specifications_set=specifications_set)\n",
    "\n",
    "env_config = {'start_date': '2021-07-01', \n",
    "              'end_date': '2050-12-31', \n",
    "              'model_type': 'VAE',\n",
    "              'action_specifications': 'ir_omega_equals',\n",
    "              'omega_pi': 0.5,\n",
    "              'omega_psi': 0.5,\n",
    "              'specifications_set': specifications_set,\n",
    "              'df': df,\n",
    "              'scaler': scaler,\n",
    "              'model_config': Config()}\n",
    "\n",
    "env_name = \"AutonomousFed\"\n",
    "register_env(env_name, lambda config: AutonomousFed(env_config))\n",
    "\n",
    "config = ppo.PPOConfig().\\\n",
    "    environment(env_name, disable_env_checking=True).\\\n",
    "        rollouts(num_rollout_workers=0)\n",
    "config = config.to_dict()\n",
    "config[\"num_workers\"] = 0"
   ]
  },
  {
   "cell_type": "code",
   "execution_count": 10,
   "id": "cddab594-82a6-466e-b550-e66789aab01a",
   "metadata": {},
   "outputs": [],
   "source": [
    "# Use the `from_checkpoint` utility of the Policy class:\n",
    "chckpt_equals = '/home/erskordi/ray_results/PPO_2024-03-11_13-14-00/PPO_AutonomousFed_c1045_00000_0_2024-03-11_13-14-00/checkpoint_000004/policies/default_policy/'\n",
    "chckpt_not_equals = '/home/erskordi/ray_results/PPO_2024-03-12_11-27-57/PPO_AutonomousFed_1a543_00000_0_2024-03-12_11-27-57/checkpoint_000004/policies/default_policy/'\n",
    "chckpt_psi_action = ''\n",
    "chckpt_all_actions = ''\n",
    "my_restored_policy = Policy.from_checkpoint(chckpt_not_equals)"
   ]
  },
  {
   "cell_type": "code",
   "execution_count": 11,
   "id": "4c37031e-c3d1-4d0c-ac06-9117bb6bfa08",
   "metadata": {},
   "outputs": [],
   "source": [
    "from env import AutonomousFed\n",
    "\n",
    "env = AutonomousFed(env_config)"
   ]
  },
  {
   "cell_type": "code",
   "execution_count": 12,
   "id": "c986c922-6631-4ad8-9b15-1376fc44a0d7",
   "metadata": {},
   "outputs": [
    {
     "data": {
      "text/plain": [
       "array([5.33, 9.16], dtype=float16)"
      ]
     },
     "execution_count": 12,
     "metadata": {},
     "output_type": "execute_result"
    }
   ],
   "source": [
    "epsilon = 1e-10\n",
    "\n",
    "obs, info = env.reset()\n",
    "obs"
   ]
  },
  {
   "cell_type": "code",
   "execution_count": 13,
   "id": "6b7b012c-b35d-4e29-ae6b-4cda6bc52698",
   "metadata": {},
   "outputs": [
    {
     "name": "stdout",
     "output_type": "stream",
     "text": [
      "[1.296 4.85 ] 0.16113907\n",
      "[1.045 1.989] 0.30468544\n",
      "[0.2043 3.154 ] -0.2852373\n",
      "[0.089 4.21 ] -0.67046094\n",
      "[0.05643 4.73   ] 0.62979496\n",
      "[0.08887 4.637  ] -0.47983772\n",
      "[0.0654 4.52  ] -0.9317903\n",
      "[0.0836 4.484 ] -0.20787735\n",
      "[0.0865 4.387 ] -0.24255864\n",
      "[0.09705 4.35   ] -0.5014633\n",
      "[0.06726 4.74   ] -0.31990996\n",
      "[0.07837 4.535  ] -0.14632653\n",
      "[0.1017 4.23  ] -0.49021953\n",
      "[0.04874 5.004  ] -0.60698867\n",
      "[0.06445 4.74   ] -0.6782799\n",
      "[0.0713 4.594 ] -0.9838592\n",
      "[0.04852 4.83   ] -1.0730362\n",
      "[0.09595 4.61   ] -0.31312013\n",
      "[0.0747 4.527 ] 0.10228887\n",
      "[0.03998 4.633  ] -1.4538124\n",
      "[0.08746 4.383  ] -0.31114513\n",
      "[0.09064 4.676  ] -0.09115371\n",
      "[0.0874 4.504 ] -0.16475324\n",
      "[0.08417 4.703  ] -1.0500436\n",
      "[0.07465 4.805  ] -0.3538544\n",
      "[0.0503 4.785 ] -1.1350507\n",
      "[0.07983 4.45   ] -0.56765145\n",
      "[0.1115 4.418 ] -0.26849565\n",
      "[0.08685 4.54   ] -0.61247206\n",
      "[0.10333 4.477  ] -0.1357108\n",
      "[0.05933 4.72   ] -0.7312299\n",
      "[0.0949 4.44  ] 0.054606944\n",
      "[0.07587 4.516  ] -0.8507584\n",
      "[0.0658 4.69  ] 0.5467051\n",
      "[0.04135 4.934  ] -1.0442648\n",
      "[0.0936 4.613 ] -0.11751257\n",
      "[0.0659 4.477 ] -0.1073741\n",
      "[0.0731 4.55  ] 0.22976041\n",
      "[0.09033 4.426  ] -0.4794873\n",
      "[0.05457 4.68   ] -0.43531847\n",
      "[0.0865 4.74  ] -0.14526308\n",
      "[0.06274 4.77   ] -0.79431283\n",
      "[0.0775 4.395 ] -0.5197266\n",
      "[0.08344 4.375  ] -0.25489962\n",
      "[0.07153 4.47   ] -0.54132384\n",
      "[0.04785 4.746  ] -0.6873703\n",
      "[0.0682 4.844 ] -0.397958\n",
      "[0.0658 4.73  ] -0.87527907\n",
      "[0.07556 4.56   ] -0.08560103\n",
      "[0.0744 4.465 ] -0.035991073\n",
      "[0.0738 4.68  ] -0.20204161\n",
      "[0.0803 4.44  ] -0.35441077\n",
      "[0.0733 4.54  ] -0.21630289\n",
      "[0.08514 4.55   ] 0.097963184\n",
      "[0.08826 4.484  ] -0.34673098\n",
      "[0.0726 4.65  ] 0.3328485\n",
      "[0.0704 4.586 ] 0.100619614\n",
      "[0.0733 4.684 ] -0.57181805\n",
      "[0.0753 4.62  ] -0.8606575\n",
      "[0.0824 4.477 ] -0.23310834\n",
      "[0.0886 4.473 ] -0.45327818\n",
      "[0.07776 4.76   ] -0.5241194\n",
      "[0.0668 4.72  ] -0.9787313\n",
      "[0.0821 4.688 ] -0.14296591\n",
      "[0.0694 4.62  ] 0.40509957\n",
      "[0.07697 4.504  ] -0.20025219\n",
      "[0.06616 4.688  ] -0.1622658\n",
      "[0.0853 4.652 ] -0.21237946\n",
      "[0.1071 4.496 ] -0.4602401\n",
      "[0.07245 4.64   ] -0.3739456\n",
      "[0.0806 4.477 ] -0.7960309\n",
      "[0.07324 4.613  ] -0.51132524\n",
      "[0.0878 4.336 ] -0.09910761\n",
      "[0.0837 4.58  ] -0.055284888\n",
      "[0.07196 4.684  ] -0.23965755\n",
      "[0.0724 4.59  ] -0.3826568\n",
      "[0.0725 4.598 ] -0.3273987\n",
      "[0.078 4.6  ] 0.20650786\n",
      "[0.07025 4.48   ] -0.07011905\n",
      "[0.05438 4.766  ] 0.56984293\n",
      "[0.05188 4.72   ] -0.09311333\n",
      "[0.0855 4.668 ] 0.039058417\n",
      "[0.059 4.53 ] 0.34699726\n",
      "[0.09106 4.684  ] -0.3334697\n",
      "[0.0953 4.355 ] -0.20379232\n",
      "[0.0704 4.387 ] -0.031552166\n",
      "[0.0682 4.676 ] 0.26973116\n",
      "[0.0768 4.63  ] -0.12049122\n",
      "[0.07275 4.656  ] -0.30469382\n",
      "[0.06696 4.59   ] -0.1940234\n",
      "[0.07513 4.535  ] -0.5383142\n",
      "[0.0601 4.758 ] -0.7422018\n",
      "[0.081 4.566] 0.18146196\n",
      "[0.0707 4.48  ] -0.4285848\n",
      "[0.05627 4.656  ] -0.65133804\n",
      "[0.0641 4.688 ] -0.081743956\n",
      "[0.0781 4.49  ] 0.2443007\n",
      "[0.0637 4.63  ] -0.6641643\n",
      "[0.09753 4.637  ] -0.7185546\n",
      "[0.07495 4.457  ] -0.5377988\n",
      "[0.09357 4.44   ] 0.20808527\n",
      "[0.0796 4.516 ] -0.2617652\n",
      "[0.09564 4.492  ] -0.6521899\n",
      "[0.06125 4.754  ] -0.47070402\n",
      "[0.0844 4.652 ] -0.34366903\n",
      "[0.06155 4.516  ] -0.8294532\n",
      "[0.071 4.406] -0.5882129\n",
      "[0.087 4.523] -0.020116389\n",
      "[0.0724 4.402 ] 0.027032733\n",
      "[0.0647 4.38  ] -0.9497683\n",
      "[0.0721 4.664 ] 0.26098397\n",
      "[0.0927 4.473 ] 0.15394643\n",
      "[0.0839 4.496 ] 0.097100675\n",
      "[0.074 4.66 ] 0.3131004\n",
      "[0.1106 4.54  ] -0.48949826\n",
      "[0.1036 4.465 ] 0.15366071\n",
      "[0.06015 4.793  ] -0.8965447\n",
      "[0.0796 4.69  ] -0.8699085\n"
     ]
    },
    {
     "name": "stderr",
     "output_type": "stream",
     "text": [
      "\u001b[36m(ServeController pid=10050)\u001b[0m INFO 2024-03-12 18:45:00,017 controller 10050 deployment_state.py:1545 - Deploying new version of deployment TF_VAE_Model in application 'default'. Setting initial target number of replicas to 1.\n",
      "\u001b[36m(ServeController pid=10050)\u001b[0m INFO 2024-03-12 18:45:00,497 controller 10050 deployment_state.py:1708 - Stopping 1 replicas of deployment 'TF_VAE_Model' in application 'default' with outdated versions.\n",
      "\u001b[36m(ServeController pid=10050)\u001b[0m INFO 2024-03-12 18:45:03,263 controller 10050 deployment_state.py:2187 - Replica default#TF_VAE_Model#kRjBWm is stopped.\n",
      "\u001b[36m(ServeController pid=10050)\u001b[0m INFO 2024-03-12 18:45:03,263 controller 10050 deployment_state.py:1829 - Adding 1 replica to deployment TF_VAE_Model in application 'default'.\n",
      "\u001b[36m(ServeController pid=10050)\u001b[0m INFO 2024-03-12 18:48:44,745 controller 10050 deployment_state.py:1545 - Deploying new version of deployment TF_VAE_Model in application 'default'. Setting initial target number of replicas to 1.\n",
      "\u001b[36m(ServeController pid=10050)\u001b[0m INFO 2024-03-12 18:48:44,858 controller 10050 deployment_state.py:1708 - Stopping 1 replicas of deployment 'TF_VAE_Model' in application 'default' with outdated versions.\n",
      "\u001b[36m(ServeController pid=10050)\u001b[0m INFO 2024-03-12 18:48:47,025 controller 10050 deployment_state.py:2187 - Replica default#TF_VAE_Model#SqTgfk is stopped.\n",
      "\u001b[36m(ServeController pid=10050)\u001b[0m INFO 2024-03-12 18:48:47,025 controller 10050 deployment_state.py:1829 - Adding 1 replica to deployment TF_VAE_Model in application 'default'.\n",
      "\u001b[36m(ServeController pid=10050)\u001b[0m INFO 2024-03-12 18:50:25,629 controller 10050 deployment_state.py:1545 - Deploying new version of deployment TF_VAE_Model in application 'default'. Setting initial target number of replicas to 1.\n",
      "\u001b[36m(ServeController pid=10050)\u001b[0m INFO 2024-03-12 18:50:25,735 controller 10050 deployment_state.py:1708 - Stopping 1 replicas of deployment 'TF_VAE_Model' in application 'default' with outdated versions.\n",
      "\u001b[36m(ServeController pid=10050)\u001b[0m INFO 2024-03-12 18:50:28,105 controller 10050 deployment_state.py:2187 - Replica default#TF_VAE_Model#TncmCW is stopped.\n",
      "\u001b[36m(ServeController pid=10050)\u001b[0m INFO 2024-03-12 18:50:28,106 controller 10050 deployment_state.py:1829 - Adding 1 replica to deployment TF_VAE_Model in application 'default'.\n",
      "\u001b[36m(PPO pid=7980)\u001b[0m 2024-03-12 18:51:47,100\tWARNING deprecation.py:50 -- DeprecationWarning: `ray.rllib.execution.train_ops.multi_gpu_train_one_step` has been deprecated. This will raise an error in the future!\n",
      "\u001b[36m(PPO pid=7980)\u001b[0m Checkpoint successfully created at: Checkpoint(filesystem=local, path=/home/erskordi/ray_results/PPO_2024-03-12_18-50-30/PPO_AutonomousFed_edb73_00000_0_2024-03-12_18-50-31/checkpoint_000000)\n",
      "\u001b[36m(PPO pid=7980)\u001b[0m Checkpoint successfully created at: Checkpoint(filesystem=local, path=/home/erskordi/ray_results/PPO_2024-03-12_18-50-30/PPO_AutonomousFed_edb73_00000_0_2024-03-12_18-50-31/checkpoint_000001)\n",
      "\u001b[36m(PPO pid=7980)\u001b[0m Checkpoint successfully created at: Checkpoint(filesystem=local, path=/home/erskordi/ray_results/PPO_2024-03-12_18-50-30/PPO_AutonomousFed_edb73_00000_0_2024-03-12_18-50-31/checkpoint_000002)\n",
      "\u001b[36m(PPO pid=7980)\u001b[0m Checkpoint successfully created at: Checkpoint(filesystem=local, path=/home/erskordi/ray_results/PPO_2024-03-12_18-50-30/PPO_AutonomousFed_edb73_00000_0_2024-03-12_18-50-31/checkpoint_000003)\n"
     ]
    }
   ],
   "source": [
    "results_all_equals = {'inflation':[],\n",
    "                      'GDP_gap':[],\n",
    "                      'interest_rate':[]}\n",
    "terminated = False\n",
    "while not terminated:\n",
    "    action = my_restored_policy.compute_single_action(obs)\n",
    "    obs, reward, terminated, truncated, info = env.step(action[0])\n",
    "    results_all_equals['inflation'].append(obs[0])\n",
    "    results_all_equals['GDP_gap'].append(obs[1])\n",
    "    results_all_equals['interest_rate'].append(action[0][0])\n",
    "    print(obs, action[0][0])"
   ]
  },
  {
   "cell_type": "code",
   "execution_count": 7,
   "id": "41cf4efc-e2b5-430a-bbfb-b9db2a4c94bb",
   "metadata": {},
   "outputs": [],
   "source": [
    "df = pd.DataFrame(results_all_equals)\n",
    "df.to_csv('/home/erskordi/projects/Autonomous_Fed/scripts/results/omegas_equal.csv')"
   ]
  },
  {
   "cell_type": "code",
   "execution_count": null,
   "id": "5d5ab5e0-b16b-48ce-8c41-d835dbd819a6",
   "metadata": {},
   "outputs": [],
   "source": []
  }
 ],
 "metadata": {
  "kernelspec": {
   "display_name": "Python 3 (ipykernel)",
   "language": "python",
   "name": "python3"
  },
  "language_info": {
   "codemirror_mode": {
    "name": "ipython",
    "version": 3
   },
   "file_extension": ".py",
   "mimetype": "text/x-python",
   "name": "python",
   "nbconvert_exporter": "python",
   "pygments_lexer": "ipython3",
   "version": "3.10.13"
  }
 },
 "nbformat": 4,
 "nbformat_minor": 5
}
