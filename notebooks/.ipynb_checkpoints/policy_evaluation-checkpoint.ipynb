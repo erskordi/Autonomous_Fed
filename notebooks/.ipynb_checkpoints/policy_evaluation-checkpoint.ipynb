{
 "cells": [
  {
   "cell_type": "code",
   "execution_count": null,
   "id": "dcb5ba8e-1a5d-44d9-979a-7347613ee29a",
   "metadata": {},
   "outputs": [],
   "source": [
    "import os\n",
    "os._exit(00)"
   ]
  },
  {
   "cell_type": "code",
   "execution_count": 1,
   "id": "2d2121ee-7aa5-420c-950a-e0c02616e28d",
   "metadata": {},
   "outputs": [],
   "source": [
    "import os\n",
    "import pandas as pd\n",
    "import numpy as np\n",
    "import ray\n",
    "import sys\n",
    "\n",
    "sys.path.insert(0, os.path.abspath(os.path.join(os.getcwd(), os.pardir)))\n",
    "sys.path.insert(0, \"/home/erskordi/projects/Autonomous_Fed/\")\n",
    "sys.path.insert(0, \"/home/erskordi/projects/Autonomous_Fed/scripts\")\n",
    "\n",
    "import ray.rllib.algorithms.ppo as ppo\n",
    "\n",
    "from ray import tune, serve, air\n",
    "from ray.tune.registry import register_env\n",
    "from ray.rllib.algorithms.ppo import PPOConfig\n",
    "from ray.rllib.utils.framework import try_import_tf\n",
    "from ray.rllib.policy.policy import Policy\n",
    "\n",
    "from config import Config\n",
    "from env import AutonomousFed\n",
    "from data_prep import gen_seq, series_to_supervised, plotting, DataPrep\n",
    "from sim import TF_VAE_Model\n",
    "\n",
    "tf1, tf, tfv = try_import_tf()\n",
    "tf1.enable_eager_execution()\n",
    "\n",
    "RAY_PICKLE_VERBOSE_DEBUG=1\n",
    "os.environ['PYTHONWARNINGS'] = \"ignore::DeprecationWarning\"\n",
    "os.environ['RAY_SERVE_QUEUE_LENGTH_RESPONSE_DEADLINE_S'] = '3'"
   ]
  },
  {
   "cell_type": "code",
   "execution_count": 2,
   "id": "ec57898f-6ca7-40ef-902a-d58cc264a38c",
   "metadata": {},
   "outputs": [
    {
     "name": "stderr",
     "output_type": "stream",
     "text": [
      "2024-03-12 11:24:03,735\tINFO worker.py:1715 -- Started a local Ray instance. View the dashboard at \u001b[1m\u001b[32m127.0.0.1:8265 \u001b[39m\u001b[22m\n"
     ]
    },
    {
     "name": "stdin",
     "output_type": "stream",
     "text": [
      "Choose specifications set {A, B, C}:  A\n"
     ]
    },
    {
     "name": "stderr",
     "output_type": "stream",
     "text": [
      "\u001b[36m(ProxyActor pid=10101)\u001b[0m INFO 2024-03-12 11:24:11,334 proxy 172.25.64.98 proxy.py:1143 - Proxy actor a5e2bff20dbe696cd0136e5201000000 starting on node 9055219526e677a21772f41cc9028a2eb5aab7e8b2f750c3cf314c59.\n",
      "\u001b[36m(ProxyActor pid=10101)\u001b[0m INFO 2024-03-12 11:24:11,342 proxy 172.25.64.98 proxy.py:1357 - Starting HTTP server on node: 9055219526e677a21772f41cc9028a2eb5aab7e8b2f750c3cf314c59 listening on port 8000\n",
      "\u001b[36m(ProxyActor pid=10101)\u001b[0m INFO:     Started server process [10101]\n",
      "\u001b[36m(ServeController pid=10050)\u001b[0m INFO 2024-03-12 11:24:11,564 controller 10050 deployment_state.py:1545 - Deploying new version of deployment TF_VAE_Model in application 'default'. Setting initial target number of replicas to 1.\n",
      "\u001b[36m(ServeController pid=10050)\u001b[0m INFO 2024-03-12 11:24:11,693 controller 10050 deployment_state.py:1829 - Adding 1 replica to deployment TF_VAE_Model in application 'default'.\n"
     ]
    }
   ],
   "source": [
    "if ray.is_initialized():\n",
    "    ray.shutdown()\n",
    "\n",
    "ray.init(num_cpus=4)\n",
    "\n",
    "specifications_set = input(\"Choose specifications set {A, B, C}: \")\n",
    "# Initialize Ray Serve\n",
    "serve.start()\n",
    "\n",
    "# Load the models based on the specifications set\n",
    "encoder_path = \"/home/erskordi/projects/Autonomous_Fed/saved_models/encoder_FedModel_A.keras\"\n",
    "decoder_path = \"/home/erskordi/projects/Autonomous_Fed/saved_models/decoder_FedModel_A.keras\"\n",
    "path = [encoder_path, decoder_path]\n",
    "\n",
    "# Deploy the models\n",
    "serve.run(target=TF_VAE_Model.bind(path), logging_config={\"log_level\":\"ERROR\"})\n",
    "\n",
    "df, scaler = DataPrep().read_data(specifications_set=specifications_set)\n",
    "\n",
    "env_config = {'start_date': '2021-07-01', \n",
    "              'end_date': '2050-12-31', \n",
    "              'model_type': 'VAE',\n",
    "              'action_specifications': 'ir_omega_equals',\n",
    "              'omega_pi': 0.5,\n",
    "              'omega_psi': 0.5,\n",
    "              'specifications_set': specifications_set,\n",
    "              'df': df,\n",
    "              'scaler': scaler,\n",
    "              'model_config': Config()}\n",
    "\n",
    "env_name = \"AutonomousFed\"\n",
    "register_env(env_name, lambda config: AutonomousFed(env_config))\n",
    "\n",
    "config = ppo.PPOConfig().\\\n",
    "    environment(env_name, disable_env_checking=True).\\\n",
    "        rollouts(num_rollout_workers=0)\n",
    "config = config.to_dict()\n",
    "config[\"num_workers\"] = 0"
   ]
  },
  {
   "cell_type": "code",
   "execution_count": 3,
   "id": "cddab594-82a6-466e-b550-e66789aab01a",
   "metadata": {},
   "outputs": [],
   "source": [
    "# Use the `from_checkpoint` utility of the Policy class:\n",
    "chckpt = '/home/erskordi/ray_results/PPO_2024-03-11_13-14-00/PPO_AutonomousFed_c1045_00000_0_2024-03-11_13-14-00/checkpoint_000004/policies/default_policy/'\n",
    "my_restored_policy = Policy.from_checkpoint(chckpt)"
   ]
  },
  {
   "cell_type": "code",
   "execution_count": 4,
   "id": "4c37031e-c3d1-4d0c-ac06-9117bb6bfa08",
   "metadata": {},
   "outputs": [],
   "source": [
    "from env import AutonomousFed\n",
    "\n",
    "env = AutonomousFed(env_config)"
   ]
  },
  {
   "cell_type": "code",
   "execution_count": 5,
   "id": "c986c922-6631-4ad8-9b15-1376fc44a0d7",
   "metadata": {},
   "outputs": [
    {
     "data": {
      "text/plain": [
       "array([5.33, 9.16], dtype=float16)"
      ]
     },
     "execution_count": 5,
     "metadata": {},
     "output_type": "execute_result"
    }
   ],
   "source": [
    "epsilon = 1e-10\n",
    "\n",
    "obs, info = env.reset()\n",
    "obs"
   ]
  },
  {
   "cell_type": "code",
   "execution_count": 6,
   "id": "6b7b012c-b35d-4e29-ae6b-4cda6bc52698",
   "metadata": {},
   "outputs": [
    {
     "name": "stdout",
     "output_type": "stream",
     "text": [
      "[1.596 4.855] 0.26222762\n",
      "[1.201 4.41 ] 0.6477215\n",
      "[1.064 3.326] 0.703552\n",
      "[1.195 2.746] 0.6566463\n",
      "[1.349 3.848] 0.80639005\n",
      "[1.109 2.902] 0.47037393\n",
      "[ 3.455   -0.01103] 1.4659457\n",
      "[ 4.695   -0.05545] 1.0476346\n",
      "[ 4.87    -0.04895] 1.248229\n",
      "[4.645  0.1449] 1.4727705\n",
      "[4.61     0.005013] 0.89126176\n",
      "[ 4.78    -0.05695] 1.064825\n",
      "[ 4.8     -0.06076] 1.1122338\n",
      "[ 4.72    -0.03802] 0.9042039\n",
      "[ 4.605    -0.004723] 0.84806037\n",
      "[3.674 1.152] 0.15281928\n",
      "[ 4.93   -0.0587] 1.4488294\n",
      "[4.414  0.3342] 1.5350264\n",
      "[ 4.754   -0.04764] 1.0889075\n",
      "[ 4.695   -0.05225] 0.9929979\n",
      "[ 4.64    -0.04053] 0.9149408\n",
      "[3.258 1.946] 1.7474487\n",
      "[ 5.22    -0.04404] 1.8876805\n",
      "[4.523  0.0716] 0.70326704\n",
      "[4.773  0.0846] 1.4836173\n",
      "[5.035  0.5835] 0.473648\n",
      "[ 4.855  -0.0367] 1.1596127\n",
      "[4.625 0.029] 0.7799189\n",
      "[ 4.79  -0.058] 1.0966535\n",
      "[ 4.652   -0.02095] 0.8582996\n",
      "[1.556 4.973] 2.1482606\n",
      "[1.147 4.277] 0.5963008\n",
      "[3.143  0.6123] 1.123981\n",
      "[4.652  0.0081] 1.0621133\n",
      "[ 4.824   -0.06152] 1.1505531\n",
      "[4.574  0.2988] 0.55114746\n",
      "[ 4.83    -0.05542] 1.1455008\n",
      "[4.61   0.3862] 0.47532976\n",
      "[ 4.867  -0.0586] 1.2283589\n",
      "[2.559 3.04 ] 1.8650205\n",
      "[1.286 4.824] 0.27951032\n",
      "[1.78  3.312] 0.96958524\n",
      "[0.885 3.166] 0.1504485\n",
      "[1.449 2.324] 0.9330639\n",
      "[1.685 4.164] 0.73837245\n",
      "[0.792 1.285] -0.22629613\n",
      "[1.982 2.102] 1.5679864\n",
      "[4.473  0.1804] 1.9318874\n",
      "[ 4.777  -0.0555] 1.0981048\n",
      "[4.645  0.2404] 0.58051693\n",
      "[4.82    0.05768] 0.8719832\n",
      "[4.66   0.3438] 0.6004419\n",
      "[4.625 0.354] 0.7170539\n",
      "[4.734  0.0647] 0.90729237\n",
      "[4.438 0.758] 0.34595478\n",
      "[4.81  0.638] 0.8049474\n",
      "[ 4.977   -0.06256] 1.3648534\n",
      "[ 4.88    -0.05545] 1.2273915\n",
      "[4.473  0.2842] 1.5240893\n",
      "[ 4.69  -0.036] 1.0313799\n",
      "[4.312  0.4531] 1.5684952\n",
      "[4.72   0.1962] 1.7111793\n",
      "[ 4.676   -0.01126] 0.94837886\n",
      "[4.844   0.01564] 1.3748893\n",
      "[ 4.816  -0.0605] 1.1232766\n",
      "[ 4.88   -0.0332] 1.284713\n",
      "[2.902 2.498] 1.8152647\n",
      "[ 4.74    -0.03036] 1.5753101\n",
      "[ 4.73    -0.05432] 1.0198998\n",
      "[ 4.883   -0.04614] 1.253871\n",
      "[ 4.81    -0.05984] 1.0947055\n",
      "[4.566  0.1984] 1.4925879\n",
      "[ 4.723   -0.03952] 1.0054368\n",
      "[4.16  0.637] 1.5944064\n",
      "[4.746   0.02069] 1.0591403\n",
      "[4.66   0.1738] 0.6751834\n",
      "[4.637  0.0704] 0.80954087\n",
      "[ 4.78    -0.05417] 1.0376352\n",
      "[ 4.9     -0.05893] 1.2231715\n",
      "[4.332 0.493] 0.4764765\n",
      "[4.8   0.306] 0.80512404\n",
      "[4.758  0.2998] 0.74733937\n",
      "[4.645e+00 2.800e-03] 0.95040154\n",
      "[4.78    0.05612] 1.4226917\n",
      "[4.62  0.058] 0.7890203\n",
      "[ 4.918   -0.05304] 1.288414\n",
      "[4.223 0.56 ] 1.5811996\n",
      "[ 4.848   -0.05505] 1.2240081\n",
      "[4.574 0.38 ] 0.52306736\n",
      "[4.953   0.04898] 1.5968453\n",
      "[4.62   0.0761] 0.7513515\n",
      "[4.812   0.05252] 1.4520456\n",
      "[ 4.863   -0.06186] 1.1642684\n",
      "[ 4.723   -0.05258] 0.96641976\n",
      "[ 4.695   -0.01405] 0.8386884\n",
      "[ 4.883   -0.05472] 1.2446634\n",
      "[3.775 1.473] -0.027919114\n",
      "[1.991 4.547] 2.5473957\n",
      "[0.6973 1.488 ] -0.3992992\n",
      "[2.734 0.136] 0.9492078\n",
      "[4.438 0.706] 0.49376076\n",
      "[ 4.93    -0.05865] 1.3247318\n",
      "[4.797  0.0328] 1.3725896\n",
      "[4.695 0.113] 0.73306084\n",
      "[ 4.855   -0.06046] 1.1603101\n",
      "[4.59    0.00802] 0.8057972\n",
      "[4.586   0.08716] 0.7359165\n",
      "[4.605  0.2452] 0.6649809\n",
      "[ 4.9     -0.06186] 1.2365606\n",
      "[ 4.78   -0.0578] 1.0575228\n",
      "[ 4.656   -0.01325] 0.84744394\n",
      "[ 4.574   -0.00977] 0.85413814\n",
      "[3.701 1.083] 0.23087144\n",
      "[ 4.906   -0.05814] 1.4217179\n",
      "[ 4.797  -0.0611] 1.111562\n",
      "[4.42   0.4724] 0.4928975\n",
      "[ 4.953  -0.0627] 1.3235595\n",
      "[4.43 0.44] 0.44906598\n"
     ]
    }
   ],
   "source": [
    "results_all_equals = {'inflation':[],\n",
    "                      'GDP_gap':[],\n",
    "                      'interest_rate':[]}\n",
    "terminated = False\n",
    "while not terminated:\n",
    "    action = my_restored_policy.compute_single_action(obs)\n",
    "    obs, reward, terminated, truncated, info = env.step(action[0])\n",
    "    results_all_equals['inflation'].append(obs[0])\n",
    "    results_all_equals['GDP_gap'].append(obs[1])\n",
    "    results_all_equals['interest_rate'].append(action[0][0])\n",
    "    print(obs, action[0][0])"
   ]
  },
  {
   "cell_type": "code",
   "execution_count": 18,
   "id": "41cf4efc-e2b5-430a-bbfb-b9db2a4c94bb",
   "metadata": {},
   "outputs": [],
   "source": [
    "df = pd.DataFrame(results_all_equals)\n",
    "df.to_csv('/home/erskordi/projects/Autonomous_Fed/scripts/results/omegas_equal.csv')"
   ]
  },
  {
   "cell_type": "code",
   "execution_count": null,
   "id": "5d5ab5e0-b16b-48ce-8c41-d835dbd819a6",
   "metadata": {},
   "outputs": [],
   "source": []
  }
 ],
 "metadata": {
  "kernelspec": {
   "display_name": "Python 3 (ipykernel)",
   "language": "python",
   "name": "python3"
  },
  "language_info": {
   "codemirror_mode": {
    "name": "ipython",
    "version": 3
   },
   "file_extension": ".py",
   "mimetype": "text/x-python",
   "name": "python",
   "nbconvert_exporter": "python",
   "pygments_lexer": "ipython3",
   "version": "3.10.13"
  }
 },
 "nbformat": 4,
 "nbformat_minor": 5
}
