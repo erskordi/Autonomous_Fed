{
  "nbformat": 4,
  "nbformat_minor": 0,
  "metadata": {
    "colab": {
      "provenance": [],
      "authorship_tag": "ABX9TyNb6AEQc1bXC289v76jtHBh",
      "include_colab_link": true
    },
    "kernelspec": {
      "name": "python3",
      "display_name": "Python 3"
    },
    "language_info": {
      "name": "python"
    }
  },
  "cells": [
    {
      "cell_type": "markdown",
      "metadata": {
        "id": "view-in-github",
        "colab_type": "text"
      },
      "source": [
        "<a href=\"https://colab.research.google.com/github/erskordi/Autonomous_Fed/blob/main/320F_Spr25.ipynb\" target=\"_parent\"><img src=\"https://colab.research.google.com/assets/colab-badge.svg\" alt=\"Open In Colab\"/></a>"
      ]
    },
    {
      "cell_type": "code",
      "execution_count": null,
      "metadata": {
        "id": "ZHEihbj6MXEP",
        "colab": {
          "base_uri": "https://localhost:8080/"
        },
        "outputId": "9d9a72c5-35d9-4e6f-d710-222e407e99ab"
      },
      "outputs": [
        {
          "output_type": "execute_result",
          "data": {
            "text/plain": [
              "5"
            ]
          },
          "metadata": {},
          "execution_count": 1
        }
      ],
      "source": [
        "3 + 2"
      ]
    },
    {
      "cell_type": "code",
      "source": [
        "3.2 + 5.6"
      ],
      "metadata": {
        "colab": {
          "base_uri": "https://localhost:8080/"
        },
        "id": "6VEPHkFOiYrV",
        "outputId": "9d399a6f-5720-434f-f08d-34b4a22fd332"
      },
      "execution_count": null,
      "outputs": [
        {
          "output_type": "execute_result",
          "data": {
            "text/plain": [
              "8.8"
            ]
          },
          "metadata": {},
          "execution_count": 2
        }
      ]
    },
    {
      "cell_type": "code",
      "source": [
        "3 + 2.0"
      ],
      "metadata": {
        "colab": {
          "base_uri": "https://localhost:8080/"
        },
        "id": "uQX4oPnpib7t",
        "outputId": "49bd1916-3533-4823-aff3-3b9b2f6c2357"
      },
      "execution_count": null,
      "outputs": [
        {
          "output_type": "execute_result",
          "data": {
            "text/plain": [
              "5.0"
            ]
          },
          "metadata": {},
          "execution_count": 3
        }
      ]
    },
    {
      "cell_type": "code",
      "source": [
        "5 - 2"
      ],
      "metadata": {
        "colab": {
          "base_uri": "https://localhost:8080/"
        },
        "id": "TFiFNmNQinPt",
        "outputId": "ced7cd5f-dc52-4944-b967-fd9d1d07b51a"
      },
      "execution_count": null,
      "outputs": [
        {
          "output_type": "execute_result",
          "data": {
            "text/plain": [
              "3"
            ]
          },
          "metadata": {},
          "execution_count": 4
        }
      ]
    },
    {
      "cell_type": "code",
      "source": [
        "4 * 5"
      ],
      "metadata": {
        "colab": {
          "base_uri": "https://localhost:8080/"
        },
        "id": "UHFDp8dMioi9",
        "outputId": "a55e9c20-bf85-41d4-e732-68e880b7e059"
      },
      "execution_count": null,
      "outputs": [
        {
          "output_type": "execute_result",
          "data": {
            "text/plain": [
              "20"
            ]
          },
          "metadata": {},
          "execution_count": 5
        }
      ]
    },
    {
      "cell_type": "code",
      "source": [
        "3 ** 3"
      ],
      "metadata": {
        "colab": {
          "base_uri": "https://localhost:8080/"
        },
        "id": "63smuM-9iqRs",
        "outputId": "52639682-1d30-4f94-bfcc-f5befa5d7ff0"
      },
      "execution_count": null,
      "outputs": [
        {
          "output_type": "execute_result",
          "data": {
            "text/plain": [
              "27"
            ]
          },
          "metadata": {},
          "execution_count": 6
        }
      ]
    },
    {
      "cell_type": "code",
      "source": [
        "6 / 3"
      ],
      "metadata": {
        "colab": {
          "base_uri": "https://localhost:8080/"
        },
        "id": "GLy4gcDOiryc",
        "outputId": "98821be6-701a-40b1-9bab-3ddf82e11c48"
      },
      "execution_count": null,
      "outputs": [
        {
          "output_type": "execute_result",
          "data": {
            "text/plain": [
              "2.0"
            ]
          },
          "metadata": {},
          "execution_count": 7
        }
      ]
    },
    {
      "cell_type": "code",
      "source": [
        "5 // 2"
      ],
      "metadata": {
        "colab": {
          "base_uri": "https://localhost:8080/"
        },
        "id": "Ewu8G-W2i2Us",
        "outputId": "a2c24827-4639-4736-d907-6587bf89bd99"
      },
      "execution_count": null,
      "outputs": [
        {
          "output_type": "execute_result",
          "data": {
            "text/plain": [
              "2"
            ]
          },
          "metadata": {},
          "execution_count": 8
        }
      ]
    },
    {
      "cell_type": "code",
      "source": [
        "5 % 3"
      ],
      "metadata": {
        "colab": {
          "base_uri": "https://localhost:8080/"
        },
        "id": "7AYug7Jwi8CE",
        "outputId": "007e8b1d-3dcc-4319-a6eb-3456d2bda917"
      },
      "execution_count": null,
      "outputs": [
        {
          "output_type": "execute_result",
          "data": {
            "text/plain": [
              "2"
            ]
          },
          "metadata": {},
          "execution_count": 9
        }
      ]
    },
    {
      "cell_type": "code",
      "source": [
        "3 % 5"
      ],
      "metadata": {
        "colab": {
          "base_uri": "https://localhost:8080/"
        },
        "id": "wqaBrRUejCj8",
        "outputId": "1805f8c3-b8d6-45d8-a331-1f3763815597"
      },
      "execution_count": null,
      "outputs": [
        {
          "output_type": "execute_result",
          "data": {
            "text/plain": [
              "3"
            ]
          },
          "metadata": {},
          "execution_count": 10
        }
      ]
    },
    {
      "cell_type": "code",
      "source": [
        "a = True\n",
        "b = False"
      ],
      "metadata": {
        "id": "-Xkf6jobkprV"
      },
      "execution_count": null,
      "outputs": []
    },
    {
      "cell_type": "code",
      "source": [
        "a and b"
      ],
      "metadata": {
        "colab": {
          "base_uri": "https://localhost:8080/"
        },
        "id": "xoDtnj1Bk2Nt",
        "outputId": "bc1c4082-5378-48b2-c235-9199b1bc8374"
      },
      "execution_count": null,
      "outputs": [
        {
          "output_type": "execute_result",
          "data": {
            "text/plain": [
              "False"
            ]
          },
          "metadata": {},
          "execution_count": 12
        }
      ]
    },
    {
      "cell_type": "code",
      "source": [
        "a or b"
      ],
      "metadata": {
        "colab": {
          "base_uri": "https://localhost:8080/"
        },
        "id": "iWWE8AWIk7Me",
        "outputId": "eb515572-7235-4431-905e-bf70d3c9bcf9"
      },
      "execution_count": null,
      "outputs": [
        {
          "output_type": "execute_result",
          "data": {
            "text/plain": [
              "True"
            ]
          },
          "metadata": {},
          "execution_count": 13
        }
      ]
    },
    {
      "cell_type": "code",
      "source": [
        "not b"
      ],
      "metadata": {
        "colab": {
          "base_uri": "https://localhost:8080/"
        },
        "id": "bNfnVk2hk9w1",
        "outputId": "802c78b0-8095-4f31-bcc0-5054b1131a1f"
      },
      "execution_count": null,
      "outputs": [
        {
          "output_type": "execute_result",
          "data": {
            "text/plain": [
              "True"
            ]
          },
          "metadata": {},
          "execution_count": 14
        }
      ]
    },
    {
      "cell_type": "code",
      "source": [
        "age = 20\n",
        "salary = 60_000\n",
        "\n",
        "(age < 30) and (salary > 50_000)"
      ],
      "metadata": {
        "colab": {
          "base_uri": "https://localhost:8080/"
        },
        "id": "CxSSLq-jlKel",
        "outputId": "6afb3533-4bce-4d16-e9fe-435c7a41c111"
      },
      "execution_count": null,
      "outputs": [
        {
          "output_type": "execute_result",
          "data": {
            "text/plain": [
              "True"
            ]
          },
          "metadata": {},
          "execution_count": 15
        }
      ]
    },
    {
      "cell_type": "code",
      "source": [
        "# Calculate the area of a square\n",
        "side = 5 # Define value of side\n",
        "area = side ** 2 # Calculate area\n",
        "print(\"Area =\", area, \"sq. ft\") # Display result\n",
        "print(\"Goodbye!\")"
      ],
      "metadata": {
        "colab": {
          "base_uri": "https://localhost:8080/"
        },
        "id": "GVN18k7loJTv",
        "outputId": "fb94583b-a09e-4b69-ee53-922f6732130b"
      },
      "execution_count": null,
      "outputs": [
        {
          "output_type": "stream",
          "name": "stdout",
          "text": [
            "Area = 25 sq. ft\n",
            "Goodbye!\n"
          ]
        }
      ]
    },
    {
      "cell_type": "code",
      "source": [
        "print(\"Area =\", area, \"sq. ft\", end=\"---\")\n",
        "print(\"Goodbye!\")"
      ],
      "metadata": {
        "id": "Nd2aLXr2po2f",
        "colab": {
          "base_uri": "https://localhost:8080/"
        },
        "outputId": "2144ada8-122d-442d-e01e-d3bc83731b46"
      },
      "execution_count": null,
      "outputs": [
        {
          "output_type": "stream",
          "name": "stdout",
          "text": [
            "Area = 25 sq. ft---Goodbye!\n"
          ]
        }
      ]
    },
    {
      "cell_type": "code",
      "source": [
        "print(\"Area =\", area, \"sq. ft\", sep=\"///\")\n",
        "print(\"Goodbye!\")"
      ],
      "metadata": {
        "colab": {
          "base_uri": "https://localhost:8080/"
        },
        "id": "DjRCrx7eWjvL",
        "outputId": "f00a9f14-e30c-44bd-d090-940a549dbb7b"
      },
      "execution_count": null,
      "outputs": [
        {
          "output_type": "stream",
          "name": "stdout",
          "text": [
            "Area =///25///sq. ft\n",
            "Goodbye!\n"
          ]
        }
      ]
    },
    {
      "cell_type": "code",
      "source": [
        "print(\"Area = {}sq. ft\".format(area))"
      ],
      "metadata": {
        "colab": {
          "base_uri": "https://localhost:8080/"
        },
        "id": "Mc0ZorPfZN1l",
        "outputId": "eb3ef1a1-855d-4b68-8fe4-5942996a7523"
      },
      "execution_count": null,
      "outputs": [
        {
          "output_type": "stream",
          "name": "stdout",
          "text": [
            "Area = 25sq. ft\n"
          ]
        }
      ]
    },
    {
      "cell_type": "code",
      "source": [
        "print(f\"Area = {area} sq. ft\")"
      ],
      "metadata": {
        "colab": {
          "base_uri": "https://localhost:8080/"
        },
        "id": "_z6Z-g7AadPp",
        "outputId": "83ddebea-6ebb-4d50-e095-4f7ddcc2d3ac"
      },
      "execution_count": null,
      "outputs": [
        {
          "output_type": "stream",
          "name": "stdout",
          "text": [
            "Area = 25 sq. ft\n"
          ]
        }
      ]
    },
    {
      "cell_type": "code",
      "source": [
        "name = input(\"Please provide your name: \")\n",
        "print('Hi', name)\n",
        "type(name)"
      ],
      "metadata": {
        "colab": {
          "base_uri": "https://localhost:8080/"
        },
        "id": "DAc_rb_rjuS9",
        "outputId": "e518c763-17d3-48ea-dda5-b1b98c001c1e"
      },
      "execution_count": null,
      "outputs": [
        {
          "output_type": "stream",
          "name": "stdout",
          "text": [
            "Please provide your name: Bob\n",
            "Hi Bob\n"
          ]
        },
        {
          "output_type": "execute_result",
          "data": {
            "text/plain": [
              "str"
            ]
          },
          "metadata": {},
          "execution_count": 2
        }
      ]
    },
    {
      "cell_type": "code",
      "source": [
        "age = int(input('Please provide your age: '))\n",
        "print(age + 10)\n",
        "type(age)"
      ],
      "metadata": {
        "colab": {
          "base_uri": "https://localhost:8080/"
        },
        "id": "4AuQaEyxmSk5",
        "outputId": "650e6f7c-6691-4bff-f487-45d325fd4044"
      },
      "execution_count": null,
      "outputs": [
        {
          "output_type": "stream",
          "name": "stdout",
          "text": [
            "Please provide your age: 25\n",
            "35\n"
          ]
        },
        {
          "output_type": "execute_result",
          "data": {
            "text/plain": [
              "int"
            ]
          },
          "metadata": {},
          "execution_count": 6
        }
      ]
    },
    {
      "cell_type": "code",
      "source": [
        "pi = 3.14\n",
        "radius = float(input('Please provide the radius: '))\n",
        "height = float(input('Please provide the height: '))\n",
        "\n",
        "area = 2 * pi * radius ** 2 + 2 * pi * radius * height\n",
        "\n",
        "print(f'Area of cylinder: {area} sq. ft')"
      ],
      "metadata": {
        "colab": {
          "base_uri": "https://localhost:8080/"
        },
        "id": "RHm9dUuxr0kb",
        "outputId": "7b91309e-b223-4589-c6ad-311f3c10faad"
      },
      "execution_count": null,
      "outputs": [
        {
          "output_type": "stream",
          "name": "stdout",
          "text": [
            "Please provide the radius: 5\n",
            "Please provide the height: 6\n",
            "Area of cylinder: 345.4 sq. ft\n"
          ]
        }
      ]
    },
    {
      "cell_type": "code",
      "source": [],
      "metadata": {
        "id": "xI5PQjwEAyiD"
      },
      "execution_count": null,
      "outputs": []
    }
  ]
}